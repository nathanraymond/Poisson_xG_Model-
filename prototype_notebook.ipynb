{
 "metadata": {
  "language_info": {
   "codemirror_mode": {
    "name": "ipython",
    "version": 3
   },
   "file_extension": ".py",
   "mimetype": "text/x-python",
   "name": "python",
   "nbconvert_exporter": "python",
   "pygments_lexer": "ipython3",
   "version": "3.8.5-final"
  },
  "orig_nbformat": 2,
  "kernelspec": {
   "name": "python3",
   "display_name": "Python 3",
   "language": "python"
  }
 },
 "nbformat": 4,
 "nbformat_minor": 2,
 "cells": [
  {
   "cell_type": "code",
   "execution_count": 1,
   "metadata": {},
   "outputs": [],
   "source": [
    "from scipy.stats import poisson\n",
    "import numpy as np"
   ]
  },
  {
   "cell_type": "code",
   "execution_count": 2,
   "metadata": {},
   "outputs": [
    {
     "output_type": "execute_result",
     "data": {
      "text/plain": [
       "0.2922925776808594"
      ]
     },
     "metadata": {},
     "execution_count": 2
    }
   ],
   "source": [
    "poisson.pmf(0,1.23)"
   ]
  },
  {
   "cell_type": "code",
   "execution_count": 3,
   "metadata": {},
   "outputs": [
    {
     "output_type": "execute_result",
     "data": {
      "text/plain": [
       "0.2922925776808594"
      ]
     },
     "metadata": {},
     "execution_count": 3
    }
   ],
   "source": [
    "def poisson_pmf(k, lam):\n",
    "    return (lam**k*np.exp(-lam))/np.math.factorial(k)\n",
    "poisson_pmf(0,1.23)"
   ]
  },
  {
   "cell_type": "code",
   "execution_count": 4,
   "metadata": {},
   "outputs": [],
   "source": [
    "n_goals = [0,1,2,3,4,5]"
   ]
  },
  {
   "cell_type": "code",
   "execution_count": 5,
   "metadata": {},
   "outputs": [
    {
     "output_type": "execute_result",
     "data": {
      "text/plain": [
       "array([[0.29229258, 0.29229258, 0.29229258, 0.29229258, 0.29229258,\n",
       "        0.29229258],\n",
       "       [0.35951987, 0.35951987, 0.35951987, 0.35951987, 0.35951987,\n",
       "        0.35951987],\n",
       "       [0.22110472, 0.22110472, 0.22110472, 0.22110472, 0.22110472,\n",
       "        0.22110472],\n",
       "       [0.09065294, 0.09065294, 0.09065294, 0.09065294, 0.09065294,\n",
       "        0.09065294],\n",
       "       [0.02787578, 0.02787578, 0.02787578, 0.02787578, 0.02787578,\n",
       "        0.02787578],\n",
       "       [0.00685744, 0.00685744, 0.00685744, 0.00685744, 0.00685744,\n",
       "        0.00685744]])"
      ]
     },
     "metadata": {},
     "execution_count": 5
    }
   ],
   "source": [
    "def poisson_pmf_goals_home(n_goals, lam):\n",
    "    probs = []\n",
    "    for k in n_goals:\n",
    "        probs.append((lam**k*np.exp(-lam))/np.math.factorial(k))\n",
    "    return (np.array([probs,]*6)).T\n",
    "home = poisson_pmf_goals_home(n_goals,1.23)\n",
    "home"
   ]
  },
  {
   "cell_type": "code",
   "execution_count": 6,
   "metadata": {},
   "outputs": [
    {
     "output_type": "execute_result",
     "data": {
      "text/plain": [
       "array([[0.36898474, 0.36787778, 0.18338707, 0.06094564, 0.0151907 ,\n",
       "        0.00302903],\n",
       "       [0.36898474, 0.36787778, 0.18338707, 0.06094564, 0.0151907 ,\n",
       "        0.00302903],\n",
       "       [0.36898474, 0.36787778, 0.18338707, 0.06094564, 0.0151907 ,\n",
       "        0.00302903],\n",
       "       [0.36898474, 0.36787778, 0.18338707, 0.06094564, 0.0151907 ,\n",
       "        0.00302903],\n",
       "       [0.36898474, 0.36787778, 0.18338707, 0.06094564, 0.0151907 ,\n",
       "        0.00302903],\n",
       "       [0.36898474, 0.36787778, 0.18338707, 0.06094564, 0.0151907 ,\n",
       "        0.00302903]])"
      ]
     },
     "metadata": {},
     "execution_count": 6
    }
   ],
   "source": [
    "def poisson_pmf_goals_away(n_goals, lam):\n",
    "    probs = []\n",
    "    for k in n_goals:\n",
    "        probs.append((lam**k*np.exp(-lam))/np.math.factorial(k))\n",
    "    return np.array([probs,]*6)\n",
    "away = poisson_pmf_goals_away(n_goals,0.997)\n",
    "away"
   ]
  },
  {
   "cell_type": "code",
   "execution_count": 7,
   "metadata": {},
   "outputs": [
    {
     "output_type": "execute_result",
     "data": {
      "text/plain": [
       "array([[1.07851500e-01, 1.07527945e-01, 5.36026807e-02, 1.78139576e-02,\n",
       "        4.44012892e-03, 8.85361707e-04],\n",
       "       [1.32657345e-01, 1.32259373e-01, 6.59312973e-02, 2.19111678e-02,\n",
       "        5.46135857e-03, 1.08899490e-03],\n",
       "       [8.15842670e-02, 8.13395142e-02, 4.05477478e-02, 1.34753682e-02,\n",
       "        3.35873552e-03, 6.69731863e-04],\n",
       "       [3.34495495e-02, 3.33492008e-02, 1.66245766e-02, 5.52490096e-03,\n",
       "        1.37708156e-03, 2.74590064e-04],\n",
       "       [1.02857365e-02, 1.02548793e-02, 5.11205731e-03, 1.69890705e-03,\n",
       "        4.23452581e-04, 8.44364447e-05],\n",
       "       [2.53029117e-03, 2.52270030e-03, 1.25756610e-03, 4.17931133e-04,\n",
       "        1.04169335e-04, 2.07713654e-05]])"
      ]
     },
     "metadata": {},
     "execution_count": 7
    }
   ],
   "source": [
    "prob = home*away\n",
    "prob"
   ]
  },
  {
   "cell_type": "code",
   "execution_count": 8,
   "metadata": {},
   "outputs": [
    {
     "output_type": "execute_result",
     "data": {
      "text/plain": [
       "array([[10.78514998, 10.75279453,  5.36026807,  1.78139576,  0.44401289,\n",
       "         0.08853617],\n",
       "       [13.26573447, 13.22593727,  6.59312973,  2.19111678,  0.54613586,\n",
       "         0.10889949],\n",
       "       [ 8.1584267 ,  8.13395142,  4.05477478,  1.34753682,  0.33587355,\n",
       "         0.06697319],\n",
       "       [ 3.34495495,  3.33492008,  1.66245766,  0.5524901 ,  0.13770816,\n",
       "         0.02745901],\n",
       "       [ 1.02857365,  1.02548793,  0.51120573,  0.1698907 ,  0.04234526,\n",
       "         0.00844364],\n",
       "       [ 0.25302912,  0.25227003,  0.12575661,  0.04179311,  0.01041693,\n",
       "         0.00207714]])"
      ]
     },
     "metadata": {},
     "execution_count": 8
    }
   ],
   "source": [
    "np.set_printoptions(suppress=True)\n",
    "prob*100"
   ]
  },
  {
   "cell_type": "code",
   "execution_count": 9,
   "metadata": {},
   "outputs": [
    {
     "output_type": "execute_result",
     "data": {
      "text/plain": [
       "          0         1         2         3         4         5\n",
       "0  0.107851  0.107528  0.053603  0.017814  0.004440  0.000885\n",
       "1  0.132657  0.132259  0.065931  0.021911  0.005461  0.001089\n",
       "2  0.081584  0.081340  0.040548  0.013475  0.003359  0.000670\n",
       "3  0.033450  0.033349  0.016625  0.005525  0.001377  0.000275\n",
       "4  0.010286  0.010255  0.005112  0.001699  0.000423  0.000084\n",
       "5  0.002530  0.002523  0.001258  0.000418  0.000104  0.000021"
      ],
      "text/html": "<div>\n<style scoped>\n    .dataframe tbody tr th:only-of-type {\n        vertical-align: middle;\n    }\n\n    .dataframe tbody tr th {\n        vertical-align: top;\n    }\n\n    .dataframe thead th {\n        text-align: right;\n    }\n</style>\n<table border=\"1\" class=\"dataframe\">\n  <thead>\n    <tr style=\"text-align: right;\">\n      <th></th>\n      <th>0</th>\n      <th>1</th>\n      <th>2</th>\n      <th>3</th>\n      <th>4</th>\n      <th>5</th>\n    </tr>\n  </thead>\n  <tbody>\n    <tr>\n      <th>0</th>\n      <td>0.107851</td>\n      <td>0.107528</td>\n      <td>0.053603</td>\n      <td>0.017814</td>\n      <td>0.004440</td>\n      <td>0.000885</td>\n    </tr>\n    <tr>\n      <th>1</th>\n      <td>0.132657</td>\n      <td>0.132259</td>\n      <td>0.065931</td>\n      <td>0.021911</td>\n      <td>0.005461</td>\n      <td>0.001089</td>\n    </tr>\n    <tr>\n      <th>2</th>\n      <td>0.081584</td>\n      <td>0.081340</td>\n      <td>0.040548</td>\n      <td>0.013475</td>\n      <td>0.003359</td>\n      <td>0.000670</td>\n    </tr>\n    <tr>\n      <th>3</th>\n      <td>0.033450</td>\n      <td>0.033349</td>\n      <td>0.016625</td>\n      <td>0.005525</td>\n      <td>0.001377</td>\n      <td>0.000275</td>\n    </tr>\n    <tr>\n      <th>4</th>\n      <td>0.010286</td>\n      <td>0.010255</td>\n      <td>0.005112</td>\n      <td>0.001699</td>\n      <td>0.000423</td>\n      <td>0.000084</td>\n    </tr>\n    <tr>\n      <th>5</th>\n      <td>0.002530</td>\n      <td>0.002523</td>\n      <td>0.001258</td>\n      <td>0.000418</td>\n      <td>0.000104</td>\n      <td>0.000021</td>\n    </tr>\n  </tbody>\n</table>\n</div>"
     },
     "metadata": {},
     "execution_count": 9
    }
   ],
   "source": [
    "import pandas as pd\n",
    "df = pd.DataFrame(prob, columns = ['0','1','2','3','4','5'], index = ['0','1','2','3','4','5'])\n",
    "df"
   ]
  },
  {
   "cell_type": "code",
   "execution_count": 10,
   "metadata": {},
   "outputs": [
    {
     "output_type": "execute_result",
     "data": {
      "text/plain": [
       "0.10785149978837902"
      ]
     },
     "metadata": {},
     "execution_count": 10
    }
   ],
   "source": [
    "df.loc['0', '0']"
   ]
  },
  {
   "cell_type": "code",
   "execution_count": 11,
   "metadata": {},
   "outputs": [],
   "source": [
    "from itertools import combinations_with_replacement\n",
    "from collections import OrderedDict\n",
    "combs = list(OrderedDict.fromkeys(list(combinations_with_replacement(['0','1','2','3','4','5','4','3','2','1','0'], 2))))"
   ]
  },
  {
   "cell_type": "code",
   "execution_count": 12,
   "metadata": {},
   "outputs": [
    {
     "output_type": "stream",
     "name": "stdout",
     "text": [
      "('1', '0')\n('2', '1')\n('2', '0')\n('3', '2')\n('3', '1')\n('3', '0')\n('4', '3')\n('4', '2')\n('4', '1')\n('4', '0')\n('5', '4')\n('5', '3')\n('5', '2')\n('5', '1')\n('5', '0')\n"
     ]
    }
   ],
   "source": [
    "for i in range (0, len(combs)):\n",
    "    \n",
    "    if (combs[i][0]) > (combs[i][1]):\n",
    "        print (combs[i])"
   ]
  },
  {
   "cell_type": "code",
   "execution_count": 13,
   "metadata": {},
   "outputs": [
    {
     "output_type": "stream",
     "name": "stdout",
     "text": [
      "('0', '0')\n('1', '1')\n('1', '0')\n('2', '2')\n('2', '1')\n('2', '0')\n('3', '3')\n('3', '2')\n('3', '1')\n('3', '0')\n('4', '4')\n('4', '3')\n('4', '2')\n('4', '1')\n('4', '0')\n('5', '5')\n('5', '4')\n('5', '3')\n('5', '2')\n('5', '1')\n('5', '0')\n"
     ]
    }
   ],
   "source": [
    "for i in range (0, len(combs)):\n",
    "    x = combs[i][0]\n",
    "    y = combs[i][1]\n",
    "    if x >= y:\n",
    "        print(combs[i])"
   ]
  },
  {
   "cell_type": "code",
   "execution_count": 14,
   "metadata": {},
   "outputs": [
    {
     "output_type": "execute_result",
     "data": {
      "text/plain": [
       "0.10785149978837902"
      ]
     },
     "metadata": {},
     "execution_count": 14
    }
   ],
   "source": [
    "z = df.loc[combs[0]]\n",
    "z"
   ]
  },
  {
   "cell_type": "code",
   "execution_count": 15,
   "metadata": {},
   "outputs": [
    {
     "output_type": "execute_result",
     "data": {
      "text/plain": [
       "0.28662774523687945"
      ]
     },
     "metadata": {},
     "execution_count": 15
    }
   ],
   "source": [
    "res = sum(df.loc[combs[i]] for i in range (0, len(combs)) if combs[i][0] == combs[i][1])\n",
    "res"
   ]
  },
  {
   "cell_type": "code",
   "execution_count": null,
   "metadata": {},
   "outputs": [],
   "source": []
  }
 ]
}